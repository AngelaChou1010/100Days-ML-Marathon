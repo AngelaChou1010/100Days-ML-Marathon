{
 "cells": [
  {
   "cell_type": "markdown",
   "metadata": {},
   "source": [
    "## 範例重點\n",
    "### 學習在模型開始前檢查各個環節\n",
    "1. 是否有 GPU 資源\n",
    "2. 將前處理轉為函式，統一處理訓練、驗證與測試集\n",
    "3. 將超參數變數化，易於重複使用函式、模型等"
   ]
  },
  {
   "cell_type": "code",
   "execution_count": 1,
   "metadata": {},
   "outputs": [
    {
     "name": "stdout",
     "output_type": "stream",
     "text": [
      "zsh:1: command not found: nvidia-smi\r\n"
     ]
    }
   ],
   "source": [
    "## 確認硬體資源 (如果你是在 Linux, 若是在 Windows, 請參考 https://blog.csdn.net/idwtwt/article/details/78017565)\n",
    "!nvidia-smi"
   ]
  },
  {
   "cell_type": "code",
   "execution_count": 3,
   "metadata": {},
   "outputs": [],
   "source": [
    "import os\n",
    "import keras\n",
    "\n",
    "# 本範例不需使用 GPU, 將 GPU 設定為 \"無\"\n",
    "os.environ[\"CUDA_VISIBLE_DEVICES\"] = \"\""
   ]
  },
  {
   "cell_type": "code",
   "execution_count": 4,
   "metadata": {},
   "outputs": [],
   "source": [
    "# 從 Keras 的內建功能中，取得 train 與 test 資料集\n",
    "train, test = keras.datasets.cifar10.load_data()"
   ]
  },
  {
   "cell_type": "code",
   "execution_count": 5,
   "metadata": {},
   "outputs": [],
   "source": [
    "## 資料前處理\n",
    "def preproc_x(x, flatten=True):\n",
    "    x = x / 255.\n",
    "    if flatten:\n",
    "        x = x.reshape((len(x), -1))\n",
    "    return x\n",
    "\n",
    "def preproc_y(y, num_classes=10):\n",
    "    if y.shape[-1] == 1:\n",
    "        y = keras.utils.to_categorical(y, num_classes)\n",
    "    return y    "
   ]
  },
  {
   "cell_type": "code",
   "execution_count": 6,
   "metadata": {},
   "outputs": [],
   "source": [
    "x_train, y_train = train\n",
    "x_test, y_test = test\n",
    "\n",
    "# 資料前處理 - X 標準化\n",
    "x_train = preproc_x(x_train)\n",
    "x_test = preproc_x(x_test)\n",
    "\n",
    "# 資料前處理 -Y 轉成 onehot\n",
    "y_train = preproc_y(y_train)\n",
    "y_test = preproc_y(y_test)"
   ]
  },
  {
   "cell_type": "code",
   "execution_count": 7,
   "metadata": {},
   "outputs": [],
   "source": [
    "def build_mlp(input_shape, output_units=10, num_neurons=[512, 256, 128]):\n",
    "    input_layer = keras.layers.Input(input_shape)\n",
    "    \n",
    "    for i, n_units in enumerate(num_neurons):\n",
    "        if i == 0:\n",
    "            x = keras.layers.Dense(units=n_units, activation=\"relu\", name=\"hidden_layer\"+str(i+1))(input_layer)\n",
    "        else:\n",
    "            x = keras.layers.Dense(units=n_units, activation=\"relu\", name=\"hidden_layer\"+str(i+1))(x)\n",
    "    \n",
    "    out = keras.layers.Dense(units=output_units, activation=\"softmax\", name=\"output\")(x)\n",
    "    \n",
    "    model = keras.models.Model(inputs=[input_layer], outputs=[out])\n",
    "    return model"
   ]
  },
  {
   "cell_type": "code",
   "execution_count": 8,
   "metadata": {},
   "outputs": [
    {
     "name": "stdout",
     "output_type": "stream",
     "text": [
      "Model: \"functional_1\"\n",
      "_________________________________________________________________\n",
      "Layer (type)                 Output Shape              Param #   \n",
      "=================================================================\n",
      "input_1 (InputLayer)         [(None, 3072)]            0         \n",
      "_________________________________________________________________\n",
      "hidden_layer1 (Dense)        (None, 512)               1573376   \n",
      "_________________________________________________________________\n",
      "hidden_layer2 (Dense)        (None, 256)               131328    \n",
      "_________________________________________________________________\n",
      "hidden_layer3 (Dense)        (None, 128)               32896     \n",
      "_________________________________________________________________\n",
      "output (Dense)               (None, 10)                1290      \n",
      "=================================================================\n",
      "Total params: 1,738,890\n",
      "Trainable params: 1,738,890\n",
      "Non-trainable params: 0\n",
      "_________________________________________________________________\n"
     ]
    }
   ],
   "source": [
    "model = build_mlp(input_shape=x_train.shape[1:])\n",
    "model.summary()"
   ]
  },
  {
   "cell_type": "code",
   "execution_count": 9,
   "metadata": {},
   "outputs": [],
   "source": [
    "## 超參數設定\n",
    "LEARNING_RATE = 0.001\n",
    "EPOCHS = 100\n",
    "BATCH_SIZE = 256"
   ]
  },
  {
   "cell_type": "code",
   "execution_count": 10,
   "metadata": {},
   "outputs": [],
   "source": [
    "optimizer = keras.optimizers.Adam(lr=LEARNING_RATE)\n",
    "model.compile(loss=\"categorical_crossentropy\", metrics=[\"accuracy\"], optimizer=optimizer)"
   ]
  },
  {
   "cell_type": "code",
   "execution_count": 11,
   "metadata": {},
   "outputs": [
    {
     "name": "stdout",
     "output_type": "stream",
     "text": [
      "Epoch 1/100\n",
      "196/196 [==============================] - 6s 28ms/step - loss: 1.9682 - accuracy: 0.2882 - val_loss: 1.8033 - val_accuracy: 0.3507\n",
      "Epoch 2/100\n",
      "196/196 [==============================] - 6s 32ms/step - loss: 1.7312 - accuracy: 0.3814 - val_loss: 1.6695 - val_accuracy: 0.4100\n",
      "Epoch 3/100\n",
      "196/196 [==============================] - 5s 27ms/step - loss: 1.6285 - accuracy: 0.4184 - val_loss: 1.6066 - val_accuracy: 0.4336\n",
      "Epoch 4/100\n",
      "196/196 [==============================] - 7s 33ms/step - loss: 1.5677 - accuracy: 0.4419 - val_loss: 1.5687 - val_accuracy: 0.4400\n",
      "Epoch 5/100\n",
      "196/196 [==============================] - 7s 36ms/step - loss: 1.5163 - accuracy: 0.4586 - val_loss: 1.5166 - val_accuracy: 0.4583\n",
      "Epoch 6/100\n",
      "196/196 [==============================] - 7s 37ms/step - loss: 1.4738 - accuracy: 0.4741 - val_loss: 1.4887 - val_accuracy: 0.4671\n",
      "Epoch 7/100\n",
      "196/196 [==============================] - 7s 36ms/step - loss: 1.4429 - accuracy: 0.4853 - val_loss: 1.4759 - val_accuracy: 0.4755\n",
      "Epoch 8/100\n",
      "196/196 [==============================] - 7s 34ms/step - loss: 1.4138 - accuracy: 0.4961 - val_loss: 1.4840 - val_accuracy: 0.4750\n",
      "Epoch 9/100\n",
      "196/196 [==============================] - 7s 34ms/step - loss: 1.3822 - accuracy: 0.5051 - val_loss: 1.4592 - val_accuracy: 0.4788\n",
      "Epoch 10/100\n",
      "196/196 [==============================] - 9s 44ms/step - loss: 1.3575 - accuracy: 0.5171 - val_loss: 1.4072 - val_accuracy: 0.5012\n",
      "Epoch 11/100\n",
      "196/196 [==============================] - 9s 44ms/step - loss: 1.3259 - accuracy: 0.5267 - val_loss: 1.4027 - val_accuracy: 0.5063\n",
      "Epoch 12/100\n",
      "196/196 [==============================] - 6s 30ms/step - loss: 1.3102 - accuracy: 0.5312 - val_loss: 1.4147 - val_accuracy: 0.4963\n",
      "Epoch 13/100\n",
      "196/196 [==============================] - 5s 24ms/step - loss: 1.2890 - accuracy: 0.5408 - val_loss: 1.4088 - val_accuracy: 0.4988\n",
      "Epoch 14/100\n",
      "196/196 [==============================] - 6s 31ms/step - loss: 1.2592 - accuracy: 0.5529 - val_loss: 1.3940 - val_accuracy: 0.5076\n",
      "Epoch 15/100\n",
      "196/196 [==============================] - 5s 24ms/step - loss: 1.2284 - accuracy: 0.5618 - val_loss: 1.3624 - val_accuracy: 0.5162\n",
      "Epoch 16/100\n",
      "196/196 [==============================] - 5s 26ms/step - loss: 1.2171 - accuracy: 0.5656 - val_loss: 1.4210 - val_accuracy: 0.4958\n",
      "Epoch 17/100\n",
      "196/196 [==============================] - 6s 30ms/step - loss: 1.1905 - accuracy: 0.5749 - val_loss: 1.3718 - val_accuracy: 0.5192\n",
      "Epoch 18/100\n",
      "196/196 [==============================] - 6s 29ms/step - loss: 1.1698 - accuracy: 0.5823 - val_loss: 1.3560 - val_accuracy: 0.5234\n",
      "Epoch 19/100\n",
      "196/196 [==============================] - 6s 28ms/step - loss: 1.1573 - accuracy: 0.5869 - val_loss: 1.3495 - val_accuracy: 0.5243\n",
      "Epoch 20/100\n",
      "196/196 [==============================] - 5s 28ms/step - loss: 1.1329 - accuracy: 0.5953 - val_loss: 1.3608 - val_accuracy: 0.5263\n",
      "Epoch 21/100\n",
      "196/196 [==============================] - 5s 28ms/step - loss: 1.1187 - accuracy: 0.6006 - val_loss: 1.3548 - val_accuracy: 0.5256\n",
      "Epoch 22/100\n",
      "196/196 [==============================] - 6s 30ms/step - loss: 1.0965 - accuracy: 0.6084 - val_loss: 1.3822 - val_accuracy: 0.5169\n",
      "Epoch 23/100\n",
      "196/196 [==============================] - 6s 33ms/step - loss: 1.0818 - accuracy: 0.6132 - val_loss: 1.3877 - val_accuracy: 0.5232\n",
      "Epoch 24/100\n",
      "196/196 [==============================] - 5s 27ms/step - loss: 1.0441 - accuracy: 0.6282 - val_loss: 1.4206 - val_accuracy: 0.5174\n",
      "Epoch 25/100\n",
      "196/196 [==============================] - 5s 27ms/step - loss: 1.0267 - accuracy: 0.6320 - val_loss: 1.4641 - val_accuracy: 0.5144\n",
      "Epoch 26/100\n",
      "196/196 [==============================] - 6s 28ms/step - loss: 1.0126 - accuracy: 0.6402 - val_loss: 1.3801 - val_accuracy: 0.5279\n",
      "Epoch 27/100\n",
      "196/196 [==============================] - 5s 26ms/step - loss: 0.9896 - accuracy: 0.6465 - val_loss: 1.3987 - val_accuracy: 0.5301\n",
      "Epoch 28/100\n",
      "196/196 [==============================] - 6s 31ms/step - loss: 0.9747 - accuracy: 0.6517 - val_loss: 1.4551 - val_accuracy: 0.5222\n",
      "Epoch 29/100\n",
      "196/196 [==============================] - 6s 29ms/step - loss: 0.9501 - accuracy: 0.6603 - val_loss: 1.4146 - val_accuracy: 0.5301\n",
      "Epoch 30/100\n",
      "196/196 [==============================] - 5s 26ms/step - loss: 0.9309 - accuracy: 0.6669 - val_loss: 1.4840 - val_accuracy: 0.5156\n",
      "Epoch 31/100\n",
      "196/196 [==============================] - 5s 23ms/step - loss: 0.9170 - accuracy: 0.6714 - val_loss: 1.4525 - val_accuracy: 0.5234\n",
      "Epoch 32/100\n",
      "196/196 [==============================] - 5s 23ms/step - loss: 0.8980 - accuracy: 0.6773 - val_loss: 1.4757 - val_accuracy: 0.5209\n",
      "Epoch 33/100\n",
      "196/196 [==============================] - 5s 23ms/step - loss: 0.8882 - accuracy: 0.6817 - val_loss: 1.4710 - val_accuracy: 0.5280\n",
      "Epoch 34/100\n",
      "196/196 [==============================] - 5s 23ms/step - loss: 0.8685 - accuracy: 0.6906 - val_loss: 1.4792 - val_accuracy: 0.5244\n",
      "Epoch 35/100\n",
      "196/196 [==============================] - 5s 23ms/step - loss: 0.8445 - accuracy: 0.6983 - val_loss: 1.5495 - val_accuracy: 0.5191\n",
      "Epoch 36/100\n",
      "196/196 [==============================] - 6s 31ms/step - loss: 0.8287 - accuracy: 0.7031 - val_loss: 1.5257 - val_accuracy: 0.5279\n",
      "Epoch 37/100\n",
      "196/196 [==============================] - 5s 28ms/step - loss: 0.8133 - accuracy: 0.7083 - val_loss: 1.5771 - val_accuracy: 0.5158\n",
      "Epoch 38/100\n",
      "196/196 [==============================] - 6s 31ms/step - loss: 0.8001 - accuracy: 0.7127 - val_loss: 1.5526 - val_accuracy: 0.5211\n",
      "Epoch 39/100\n",
      "196/196 [==============================] - 5s 25ms/step - loss: 0.7892 - accuracy: 0.7184 - val_loss: 1.5938 - val_accuracy: 0.5162\n",
      "Epoch 40/100\n",
      "196/196 [==============================] - 5s 23ms/step - loss: 0.7767 - accuracy: 0.7218 - val_loss: 1.6258 - val_accuracy: 0.5104\n",
      "Epoch 41/100\n",
      "196/196 [==============================] - 4s 23ms/step - loss: 0.7620 - accuracy: 0.7273 - val_loss: 1.5743 - val_accuracy: 0.5212\n",
      "Epoch 42/100\n",
      "196/196 [==============================] - 4s 22ms/step - loss: 0.7428 - accuracy: 0.7338 - val_loss: 1.6199 - val_accuracy: 0.5246\n",
      "Epoch 43/100\n",
      "196/196 [==============================] - 6s 29ms/step - loss: 0.7144 - accuracy: 0.7431 - val_loss: 1.6769 - val_accuracy: 0.5197\n",
      "Epoch 44/100\n",
      "196/196 [==============================] - 4s 23ms/step - loss: 0.7088 - accuracy: 0.7446 - val_loss: 1.7094 - val_accuracy: 0.5160\n",
      "Epoch 45/100\n",
      "196/196 [==============================] - 4s 23ms/step - loss: 0.6974 - accuracy: 0.7492 - val_loss: 1.6847 - val_accuracy: 0.5186\n",
      "Epoch 46/100\n",
      "196/196 [==============================] - 5s 24ms/step - loss: 0.6865 - accuracy: 0.7524 - val_loss: 1.7119 - val_accuracy: 0.5243\n",
      "Epoch 47/100\n",
      "196/196 [==============================] - 4s 23ms/step - loss: 0.6547 - accuracy: 0.7661 - val_loss: 1.7746 - val_accuracy: 0.5111\n",
      "Epoch 48/100\n",
      "196/196 [==============================] - 5s 26ms/step - loss: 0.6506 - accuracy: 0.7671 - val_loss: 1.8001 - val_accuracy: 0.5106\n",
      "Epoch 49/100\n",
      "196/196 [==============================] - 5s 24ms/step - loss: 0.6445 - accuracy: 0.7709 - val_loss: 1.7851 - val_accuracy: 0.5164\n",
      "Epoch 50/100\n",
      "196/196 [==============================] - 4s 23ms/step - loss: 0.6334 - accuracy: 0.7721 - val_loss: 1.8368 - val_accuracy: 0.5044\n",
      "Epoch 51/100\n",
      "196/196 [==============================] - 5s 23ms/step - loss: 0.6278 - accuracy: 0.7761 - val_loss: 1.8405 - val_accuracy: 0.5098\n",
      "Epoch 52/100\n",
      "196/196 [==============================] - 5s 23ms/step - loss: 0.6001 - accuracy: 0.7848 - val_loss: 1.8433 - val_accuracy: 0.5206\n",
      "Epoch 53/100\n",
      "196/196 [==============================] - 6s 32ms/step - loss: 0.5748 - accuracy: 0.7933 - val_loss: 2.1242 - val_accuracy: 0.4989\n",
      "Epoch 54/100\n",
      "196/196 [==============================] - 5s 23ms/step - loss: 0.5934 - accuracy: 0.7873 - val_loss: 1.9603 - val_accuracy: 0.5150\n",
      "Epoch 55/100\n",
      "196/196 [==============================] - 5s 23ms/step - loss: 0.5721 - accuracy: 0.7941 - val_loss: 2.0021 - val_accuracy: 0.5159\n",
      "Epoch 56/100\n",
      "196/196 [==============================] - 5s 25ms/step - loss: 0.5469 - accuracy: 0.8046 - val_loss: 1.9911 - val_accuracy: 0.5117\n",
      "Epoch 57/100\n"
     ]
    },
    {
     "name": "stdout",
     "output_type": "stream",
     "text": [
      "196/196 [==============================] - 5s 24ms/step - loss: 0.5396 - accuracy: 0.8080 - val_loss: 2.0146 - val_accuracy: 0.5118\n",
      "Epoch 58/100\n",
      "196/196 [==============================] - 4s 23ms/step - loss: 0.5335 - accuracy: 0.8071 - val_loss: 2.0239 - val_accuracy: 0.5034\n",
      "Epoch 59/100\n",
      "196/196 [==============================] - 5s 27ms/step - loss: 0.5309 - accuracy: 0.8089 - val_loss: 2.1196 - val_accuracy: 0.5064\n",
      "Epoch 60/100\n",
      "196/196 [==============================] - 9s 47ms/step - loss: 0.5142 - accuracy: 0.8167 - val_loss: 2.0891 - val_accuracy: 0.5034\n",
      "Epoch 61/100\n",
      "196/196 [==============================] - 7s 33ms/step - loss: 0.5219 - accuracy: 0.8113 - val_loss: 2.1439 - val_accuracy: 0.5183\n",
      "Epoch 62/100\n",
      "196/196 [==============================] - 6s 30ms/step - loss: 0.4815 - accuracy: 0.8272 - val_loss: 2.1247 - val_accuracy: 0.5150\n",
      "Epoch 63/100\n",
      "196/196 [==============================] - 5s 26ms/step - loss: 0.4916 - accuracy: 0.8229 - val_loss: 2.1423 - val_accuracy: 0.5113\n",
      "Epoch 64/100\n",
      "196/196 [==============================] - 5s 27ms/step - loss: 0.4758 - accuracy: 0.8303 - val_loss: 2.1710 - val_accuracy: 0.5164\n",
      "Epoch 65/100\n",
      "196/196 [==============================] - 6s 30ms/step - loss: 0.4717 - accuracy: 0.8283 - val_loss: 2.2873 - val_accuracy: 0.5110\n",
      "Epoch 66/100\n",
      "196/196 [==============================] - 6s 31ms/step - loss: 0.4649 - accuracy: 0.8325 - val_loss: 2.2800 - val_accuracy: 0.5057\n",
      "Epoch 67/100\n",
      "196/196 [==============================] - 5s 27ms/step - loss: 0.4557 - accuracy: 0.8349 - val_loss: 2.2626 - val_accuracy: 0.5105\n",
      "Epoch 68/100\n",
      "196/196 [==============================] - 6s 28ms/step - loss: 0.4512 - accuracy: 0.8359 - val_loss: 2.3964 - val_accuracy: 0.5020\n",
      "Epoch 69/100\n",
      "196/196 [==============================] - 5s 24ms/step - loss: 0.4267 - accuracy: 0.8480 - val_loss: 2.3609 - val_accuracy: 0.5110\n",
      "Epoch 70/100\n",
      "196/196 [==============================] - 5s 25ms/step - loss: 0.4332 - accuracy: 0.8429 - val_loss: 2.3708 - val_accuracy: 0.5093\n",
      "Epoch 71/100\n",
      "196/196 [==============================] - 5s 27ms/step - loss: 0.4149 - accuracy: 0.8505 - val_loss: 2.4675 - val_accuracy: 0.5045\n",
      "Epoch 72/100\n",
      "196/196 [==============================] - 5s 26ms/step - loss: 0.4027 - accuracy: 0.8562 - val_loss: 2.5109 - val_accuracy: 0.5062\n",
      "Epoch 73/100\n",
      "196/196 [==============================] - 7s 35ms/step - loss: 0.4084 - accuracy: 0.8534 - val_loss: 2.5455 - val_accuracy: 0.4992\n",
      "Epoch 74/100\n",
      "196/196 [==============================] - 7s 33ms/step - loss: 0.3968 - accuracy: 0.8565 - val_loss: 2.4734 - val_accuracy: 0.5145\n",
      "Epoch 75/100\n",
      "196/196 [==============================] - 6s 31ms/step - loss: 0.3897 - accuracy: 0.8600 - val_loss: 2.5780 - val_accuracy: 0.5063\n",
      "Epoch 76/100\n",
      "196/196 [==============================] - 6s 31ms/step - loss: 0.4088 - accuracy: 0.8526 - val_loss: 2.5981 - val_accuracy: 0.5096\n",
      "Epoch 77/100\n",
      "196/196 [==============================] - 6s 30ms/step - loss: 0.3729 - accuracy: 0.8653 - val_loss: 2.5650 - val_accuracy: 0.5033\n",
      "Epoch 78/100\n",
      "196/196 [==============================] - 6s 31ms/step - loss: 0.3683 - accuracy: 0.8684 - val_loss: 2.5910 - val_accuracy: 0.5046\n",
      "Epoch 79/100\n",
      "196/196 [==============================] - 6s 30ms/step - loss: 0.3650 - accuracy: 0.8692 - val_loss: 2.6706 - val_accuracy: 0.5084\n",
      "Epoch 80/100\n",
      "196/196 [==============================] - 6s 28ms/step - loss: 0.3690 - accuracy: 0.8666 - val_loss: 2.7496 - val_accuracy: 0.5083\n",
      "Epoch 81/100\n",
      "196/196 [==============================] - 5s 28ms/step - loss: 0.3736 - accuracy: 0.8635 - val_loss: 2.7316 - val_accuracy: 0.5069\n",
      "Epoch 82/100\n",
      "196/196 [==============================] - 5s 28ms/step - loss: 0.3431 - accuracy: 0.8770 - val_loss: 2.8757 - val_accuracy: 0.5056\n",
      "Epoch 83/100\n",
      "196/196 [==============================] - 6s 28ms/step - loss: 0.3452 - accuracy: 0.8752 - val_loss: 2.7859 - val_accuracy: 0.5045\n",
      "Epoch 84/100\n",
      "196/196 [==============================] - 6s 28ms/step - loss: 0.3527 - accuracy: 0.8719 - val_loss: 2.9602 - val_accuracy: 0.4962\n",
      "Epoch 85/100\n",
      "196/196 [==============================] - 6s 30ms/step - loss: 0.3409 - accuracy: 0.8773 - val_loss: 2.8857 - val_accuracy: 0.5007\n",
      "Epoch 86/100\n",
      "196/196 [==============================] - 6s 29ms/step - loss: 0.3325 - accuracy: 0.8815 - val_loss: 3.0708 - val_accuracy: 0.4961\n",
      "Epoch 87/100\n",
      "196/196 [==============================] - 6s 29ms/step - loss: 0.3466 - accuracy: 0.8756 - val_loss: 3.0326 - val_accuracy: 0.5030\n",
      "Epoch 88/100\n",
      "196/196 [==============================] - 6s 31ms/step - loss: 0.3316 - accuracy: 0.8798 - val_loss: 3.0336 - val_accuracy: 0.5044\n",
      "Epoch 89/100\n",
      "196/196 [==============================] - 6s 28ms/step - loss: 0.3062 - accuracy: 0.8895 - val_loss: 2.9967 - val_accuracy: 0.5039\n",
      "Epoch 90/100\n",
      "196/196 [==============================] - 6s 28ms/step - loss: 0.3089 - accuracy: 0.8883 - val_loss: 3.1178 - val_accuracy: 0.5066\n",
      "Epoch 91/100\n",
      "196/196 [==============================] - 6s 28ms/step - loss: 0.3369 - accuracy: 0.8781 - val_loss: 3.0174 - val_accuracy: 0.5093\n",
      "Epoch 92/100\n",
      "196/196 [==============================] - 6s 28ms/step - loss: 0.3133 - accuracy: 0.8873 - val_loss: 3.1494 - val_accuracy: 0.5008\n",
      "Epoch 93/100\n",
      "196/196 [==============================] - 6s 28ms/step - loss: 0.3039 - accuracy: 0.8913 - val_loss: 3.1020 - val_accuracy: 0.5003\n",
      "Epoch 94/100\n",
      "196/196 [==============================] - 6s 28ms/step - loss: 0.3090 - accuracy: 0.8875 - val_loss: 3.1302 - val_accuracy: 0.5026\n",
      "Epoch 95/100\n",
      "196/196 [==============================] - 6s 28ms/step - loss: 0.3046 - accuracy: 0.8891 - val_loss: 3.1019 - val_accuracy: 0.5094\n",
      "Epoch 96/100\n",
      "196/196 [==============================] - 6s 29ms/step - loss: 0.2668 - accuracy: 0.9038 - val_loss: 3.1872 - val_accuracy: 0.5049\n",
      "Epoch 97/100\n",
      "196/196 [==============================] - 6s 29ms/step - loss: 0.3113 - accuracy: 0.8890 - val_loss: 3.3152 - val_accuracy: 0.4995\n",
      "Epoch 98/100\n",
      "196/196 [==============================] - 6s 28ms/step - loss: 0.2821 - accuracy: 0.8979 - val_loss: 3.4567 - val_accuracy: 0.4894\n",
      "Epoch 99/100\n",
      "196/196 [==============================] - 6s 28ms/step - loss: 0.2775 - accuracy: 0.9004 - val_loss: 3.2781 - val_accuracy: 0.5037\n",
      "Epoch 100/100\n",
      "196/196 [==============================] - 6s 28ms/step - loss: 0.2803 - accuracy: 0.8985 - val_loss: 3.3016 - val_accuracy: 0.5019\n"
     ]
    },
    {
     "data": {
      "text/plain": [
       "<tensorflow.python.keras.callbacks.History at 0x7fe26b8f72d0>"
      ]
     },
     "execution_count": 11,
     "metadata": {},
     "output_type": "execute_result"
    }
   ],
   "source": [
    "model.fit(x_train, y_train, \n",
    "          epochs=EPOCHS, \n",
    "          batch_size=BATCH_SIZE, \n",
    "          validation_data=(x_test, y_test), \n",
    "          shuffle=True)"
   ]
  },
  {
   "cell_type": "code",
   "execution_count": 13,
   "metadata": {},
   "outputs": [
    {
     "data": {
      "image/png": "[encoded data removed]",
      "text/plain": [
       "<Figure size 432x288 with 1 Axes>"
      ]
     },
     "metadata": {
      "needs_background": "light"
     },
     "output_type": "display_data"
    },
    {
     "data": {
      "image/png": "[encoded data removed]",
      "text/plain": [
       "<Figure size 432x288 with 1 Axes>"
      ]
     },
     "metadata": {
      "needs_background": "light"
     },
     "output_type": "display_data"
    }
   ],
   "source": [
    "# 訓練模型並檢視驗證集的結果\n",
    "import matplotlib.pyplot as plt\n",
    "\n",
    "train_loss = model.history.history[\"loss\"]\n",
    "valid_loss = model.history.history[\"val_loss\"]\n",
    "\n",
    "train_acc = model.history.history[\"accuracy\"]\n",
    "valid_acc = model.history.history[\"val_accuracy\"]\n",
    "\n",
    "plt.plot(range(len(train_loss)), train_loss, label=\"train loss\")\n",
    "plt.plot(range(len(valid_loss)), valid_loss, label=\"valid loss\")\n",
    "plt.legend()\n",
    "plt.title(\"Loss\")\n",
    "plt.show()\n",
    "\n",
    "plt.plot(range(len(train_acc)), train_acc, label=\"train accuracy\")\n",
    "plt.plot(range(len(valid_acc)), valid_acc, label=\"valid accuracy\")\n",
    "plt.legend()\n",
    "plt.title(\"Accuracy\")\n",
    "plt.show()"
   ]
  },
  {
   "cell_type": "markdown",
   "metadata": {},
   "source": [
    "## Work\n",
    "1. 請嘗試將 preproc_x 替換成以每筆資料的 min/max 進行標準化至 -1 ~ 1 間，再進行訓練\n",
    "2. 請嘗試將 mlp 疊更深 (e.g 5~10 層)，進行訓練後觀察 learning curve 的走勢\n",
    "3. (optional) 請改用 GPU 進行訓練 (如果你有 GPU 的話)，比較使用 CPU 與 GPU 的訓練速度"
   ]
  }
 ],
 "metadata": {
  "kernelspec": {
   "display_name": "Python 3",
   "language": "python",
   "name": "python3"
  },
  "language_info": {
   "codemirror_mode": {
    "name": "ipython",
    "version": 3
   },
   "file_extension": ".py",
   "mimetype": "text/x-python",
   "name": "python",
   "nbconvert_exporter": "python",
   "pygments_lexer": "ipython3",
   "version": "3.7.4"
  }
 },
 "nbformat": 4,
 "nbformat_minor": 2
}
