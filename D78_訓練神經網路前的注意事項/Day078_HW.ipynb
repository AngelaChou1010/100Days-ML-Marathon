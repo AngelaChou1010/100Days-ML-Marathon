{
 "cells": [
  {
   "cell_type": "markdown",
   "metadata": {},
   "source": [
    "## Work\n",
    "1. 請嘗試將 preproc_x 替換成以每筆資料的 min/max 進行標準化至 -1 ~ 1 間，再進行訓練\n",
    "2. 請嘗試將 mlp 疊更深 (e.g 5~10 層)，進行訓練後觀察 learning curve 的走勢\n",
    "3. (optional) 請改用 GPU 進行訓練 (如果你有 GPU 的話)，比較使用 CPU 與 GPU 的訓練速度"
   ]
  },
  {
   "cell_type": "code",
   "execution_count": 1,
   "metadata": {},
   "outputs": [],
   "source": [
    "## \n",
    "\"\"\"\n",
    "Your code here (optional)\n",
    "確認硬體資源\n",
    "\"\"\"\n"
   ]
  },
  {
   "cell_type": "code",
   "execution_count": 1,
   "metadata": {},
   "outputs": [],
   "source": [
    "import os\n",
    "import keras\n",
    "\n",
    "# 請嘗試設定 GPU：os.environ\n"
   ]
  },
  {
   "cell_type": "code",
   "execution_count": 2,
   "metadata": {},
   "outputs": [],
   "source": [
    "train, test = keras.datasets.cifar10.load_data()"
   ]
  },
  {
   "cell_type": "code",
   "execution_count": 4,
   "metadata": {},
   "outputs": [],
   "source": [
    "## 資料前處理\n",
    "\"\"\"\n",
    "Your code here\n",
    "\"\"\"\n",
    "from sklearn.preprocessing import MinMaxScaler\n",
    "def preproc_x(x, flatten=True):\n",
    "    x = x / 255.\n",
    "    if flatten:\n",
    "        x = x.reshape((len(x), -1))\n",
    "        scaler = MinMaxScaler(feature_range=(-1,1))\n",
    "        x = scaler.fit_transform(x)\n",
    "    return x\n",
    "\n",
    "\n",
    "\n",
    "def preproc_y(y, num_classes=10):\n",
    "    if y.shape[-1] == 1:\n",
    "        y = keras.utils.to_categorical(y, num_classes)\n",
    "    return y"
   ]
  },
  {
   "cell_type": "code",
   "execution_count": 7,
   "metadata": {},
   "outputs": [],
   "source": [
    "x_train, y_train = train\n",
    "x_test, y_test = test\n",
    "\n",
    "# Preproc the inputs\n",
    "x_train = preproc_x(x_train)\n",
    "x_test = preproc_x(x_test)\n",
    "\n",
    "# # Preprc the outputs\n",
    "y_train = preproc_y(y_train)\n",
    "y_test = preproc_y(y_test)"
   ]
  },
  {
   "cell_type": "code",
   "execution_count": 8,
   "metadata": {},
   "outputs": [
    {
     "name": "stdout",
     "output_type": "stream",
     "text": [
      "Model: \"functional_3\"\n",
      "_________________________________________________________________\n",
      "Layer (type)                 Output Shape              Param #   \n",
      "=================================================================\n",
      "input_2 (InputLayer)         [(None, 3072)]            0         \n",
      "_________________________________________________________________\n",
      "hidden_layer1 (Dense)        (None, 512)               1573376   \n",
      "_________________________________________________________________\n",
      "hidden_layer2 (Dense)        (None, 256)               131328    \n",
      "_________________________________________________________________\n",
      "hidden_layer3 (Dense)        (None, 128)               32896     \n",
      "_________________________________________________________________\n",
      "hidden_layer4 (Dense)        (None, 64)                8256      \n",
      "_________________________________________________________________\n",
      "hidden_layer5 (Dense)        (None, 32)                2080      \n",
      "_________________________________________________________________\n",
      "output (Dense)               (None, 10)                330       \n",
      "=================================================================\n",
      "Total params: 1,748,266\n",
      "Trainable params: 1,748,266\n",
      "Non-trainable params: 0\n",
      "_________________________________________________________________\n"
     ]
    }
   ],
   "source": [
    "\"\"\"Code Here\n",
    "建立你的神經網路\n",
    "\"\"\"\n",
    "def build_mlp(input_shape, output_units=10, num_neurons=[512, 256, 128, 64, 32]):\n",
    "    input_layer = keras.layers.Input(input_shape)\n",
    "    \n",
    "    for i, n_units in enumerate(num_neurons):\n",
    "        if i == 0:\n",
    "            x = keras.layers.Dense(units=n_units, activation=\"relu\", name=\"hidden_layer\"+str(i+1))(input_layer)\n",
    "        else:\n",
    "            x = keras.layers.Dense(units=n_units, activation=\"relu\", name=\"hidden_layer\"+str(i+1))(x)\n",
    "    \n",
    "    out = keras.layers.Dense(units=output_units, activation=\"softmax\", name=\"output\")(x)\n",
    "    \n",
    "    model = keras.models.Model(inputs=[input_layer], outputs=[out])\n",
    "    return model\n",
    "\n",
    "model = build_mlp(input_shape=x_train.shape[1:])\n",
    "model.summary()"
   ]
  },
  {
   "cell_type": "code",
   "execution_count": 9,
   "metadata": {},
   "outputs": [],
   "source": [
    "## 超參數設定\n",
    "LEARNING_RATE = 0.001\n",
    "EPOCHS = 100\n",
    "BATCH_SIZE = 256"
   ]
  },
  {
   "cell_type": "code",
   "execution_count": 10,
   "metadata": {},
   "outputs": [],
   "source": [
    "optimizer = keras.optimizers.Adam(lr=LEARNING_RATE)\n",
    "model.compile(loss=\"categorical_crossentropy\", metrics=[\"accuracy\"], optimizer=optimizer)"
   ]
  },
  {
   "cell_type": "code",
   "execution_count": 11,
   "metadata": {},
   "outputs": [
    {
     "name": "stdout",
     "output_type": "stream",
     "text": [
      "Epoch 1/100\n",
      "196/196 [==============================] - 7s 34ms/step - loss: 1.7587 - accuracy: 0.3769 - val_loss: 1.5706 - val_accuracy: 0.4416\n",
      "Epoch 2/100\n",
      "196/196 [==============================] - 6s 29ms/step - loss: 1.4941 - accuracy: 0.4711 - val_loss: 1.4639 - val_accuracy: 0.4878\n",
      "Epoch 3/100\n",
      "196/196 [==============================] - 6s 32ms/step - loss: 1.3666 - accuracy: 0.5212 - val_loss: 1.4195 - val_accuracy: 0.4956\n",
      "Epoch 4/100\n",
      "196/196 [==============================] - 5s 27ms/step - loss: 1.2702 - accuracy: 0.5526 - val_loss: 1.3933 - val_accuracy: 0.5174\n",
      "Epoch 5/100\n",
      "196/196 [==============================] - 5s 27ms/step - loss: 1.1897 - accuracy: 0.5810 - val_loss: 1.3926 - val_accuracy: 0.5173\n",
      "Epoch 6/100\n",
      "196/196 [==============================] - 5s 28ms/step - loss: 1.1129 - accuracy: 0.6088 - val_loss: 1.3773 - val_accuracy: 0.5267\n",
      "Epoch 7/100\n",
      "196/196 [==============================] - 5s 26ms/step - loss: 1.0420 - accuracy: 0.6323 - val_loss: 1.3871 - val_accuracy: 0.5263\n",
      "Epoch 8/100\n",
      "196/196 [==============================] - 5s 27ms/step - loss: 0.9635 - accuracy: 0.6598 - val_loss: 1.4052 - val_accuracy: 0.5272\n",
      "Epoch 9/100\n",
      "196/196 [==============================] - 5s 27ms/step - loss: 0.9051 - accuracy: 0.6786 - val_loss: 1.4120 - val_accuracy: 0.5339\n",
      "Epoch 10/100\n",
      "196/196 [==============================] - 5s 27ms/step - loss: 0.8341 - accuracy: 0.7042 - val_loss: 1.4522 - val_accuracy: 0.5287\n",
      "Epoch 11/100\n",
      "196/196 [==============================] - 5s 27ms/step - loss: 0.7780 - accuracy: 0.7234 - val_loss: 1.5289 - val_accuracy: 0.5259\n",
      "Epoch 12/100\n",
      "196/196 [==============================] - 5s 27ms/step - loss: 0.7155 - accuracy: 0.7458 - val_loss: 1.5549 - val_accuracy: 0.5263\n",
      "Epoch 13/100\n",
      "196/196 [==============================] - 5s 27ms/step - loss: 0.6580 - accuracy: 0.7642 - val_loss: 1.6297 - val_accuracy: 0.5373\n",
      "Epoch 14/100\n",
      "196/196 [==============================] - 5s 27ms/step - loss: 0.5986 - accuracy: 0.7870 - val_loss: 1.7048 - val_accuracy: 0.5304\n",
      "Epoch 15/100\n",
      "196/196 [==============================] - 5s 27ms/step - loss: 0.5544 - accuracy: 0.8042 - val_loss: 1.7286 - val_accuracy: 0.5325\n",
      "Epoch 16/100\n",
      "196/196 [==============================] - 5s 27ms/step - loss: 0.5012 - accuracy: 0.8225 - val_loss: 1.8437 - val_accuracy: 0.5268\n",
      "Epoch 17/100\n",
      "196/196 [==============================] - 5s 27ms/step - loss: 0.4731 - accuracy: 0.8321 - val_loss: 1.9584 - val_accuracy: 0.5263\n",
      "Epoch 18/100\n",
      "196/196 [==============================] - 5s 27ms/step - loss: 0.4208 - accuracy: 0.8522 - val_loss: 2.0554 - val_accuracy: 0.5286\n",
      "Epoch 19/100\n",
      "196/196 [==============================] - 5s 27ms/step - loss: 0.3975 - accuracy: 0.8581 - val_loss: 2.1631 - val_accuracy: 0.5347\n",
      "Epoch 20/100\n",
      "196/196 [==============================] - 5s 27ms/step - loss: 0.3624 - accuracy: 0.8724 - val_loss: 2.1925 - val_accuracy: 0.5314\n",
      "Epoch 21/100\n",
      "196/196 [==============================] - 5s 27ms/step - loss: 0.3452 - accuracy: 0.8774 - val_loss: 2.3370 - val_accuracy: 0.5263\n",
      "Epoch 22/100\n",
      "196/196 [==============================] - 5s 27ms/step - loss: 0.3143 - accuracy: 0.8908 - val_loss: 2.3526 - val_accuracy: 0.5263\n",
      "Epoch 23/100\n",
      "196/196 [==============================] - 5s 27ms/step - loss: 0.2897 - accuracy: 0.8982 - val_loss: 2.4981 - val_accuracy: 0.5297\n",
      "Epoch 24/100\n",
      "196/196 [==============================] - 5s 26ms/step - loss: 0.2903 - accuracy: 0.8980 - val_loss: 2.5107 - val_accuracy: 0.5164\n",
      "Epoch 25/100\n",
      "196/196 [==============================] - 5s 27ms/step - loss: 0.2561 - accuracy: 0.9110 - val_loss: 2.7285 - val_accuracy: 0.5312\n",
      "Epoch 26/100\n",
      "196/196 [==============================] - 5s 26ms/step - loss: 0.2529 - accuracy: 0.9106 - val_loss: 2.7860 - val_accuracy: 0.5178\n",
      "Epoch 27/100\n",
      "196/196 [==============================] - 5s 26ms/step - loss: 0.2396 - accuracy: 0.9160 - val_loss: 2.8487 - val_accuracy: 0.5271\n",
      "Epoch 28/100\n",
      "196/196 [==============================] - 5s 27ms/step - loss: 0.2269 - accuracy: 0.9208 - val_loss: 2.9152 - val_accuracy: 0.5216\n",
      "Epoch 29/100\n",
      "196/196 [==============================] - 5s 27ms/step - loss: 0.2229 - accuracy: 0.9231 - val_loss: 3.0164 - val_accuracy: 0.5221\n",
      "Epoch 30/100\n",
      "196/196 [==============================] - 5s 27ms/step - loss: 0.1999 - accuracy: 0.9312 - val_loss: 3.0302 - val_accuracy: 0.5313\n",
      "Epoch 31/100\n",
      "196/196 [==============================] - 5s 27ms/step - loss: 0.1940 - accuracy: 0.9329 - val_loss: 3.1047 - val_accuracy: 0.5277\n",
      "Epoch 32/100\n",
      "196/196 [==============================] - 5s 26ms/step - loss: 0.2031 - accuracy: 0.9306 - val_loss: 3.1465 - val_accuracy: 0.5191\n",
      "Epoch 33/100\n",
      "196/196 [==============================] - 5s 26ms/step - loss: 0.1696 - accuracy: 0.9423 - val_loss: 3.2645 - val_accuracy: 0.5330\n",
      "Epoch 34/100\n",
      "196/196 [==============================] - 5s 26ms/step - loss: 0.1813 - accuracy: 0.9379 - val_loss: 3.2196 - val_accuracy: 0.5214\n",
      "Epoch 35/100\n",
      "196/196 [==============================] - 5s 26ms/step - loss: 0.1716 - accuracy: 0.9410 - val_loss: 3.3956 - val_accuracy: 0.5264\n",
      "Epoch 36/100\n",
      "196/196 [==============================] - 5s 26ms/step - loss: 0.1357 - accuracy: 0.9529 - val_loss: 3.3301 - val_accuracy: 0.5249\n",
      "Epoch 37/100\n",
      "196/196 [==============================] - 5s 26ms/step - loss: 0.1627 - accuracy: 0.9447 - val_loss: 3.3791 - val_accuracy: 0.5218\n",
      "Epoch 38/100\n",
      "196/196 [==============================] - 5s 26ms/step - loss: 0.1684 - accuracy: 0.9415 - val_loss: 3.4766 - val_accuracy: 0.5257\n",
      "Epoch 39/100\n",
      "196/196 [==============================] - 5s 26ms/step - loss: 0.1690 - accuracy: 0.9425 - val_loss: 3.4609 - val_accuracy: 0.5232\n",
      "Epoch 40/100\n",
      "196/196 [==============================] - 5s 27ms/step - loss: 0.1391 - accuracy: 0.9532 - val_loss: 3.6423 - val_accuracy: 0.5298\n",
      "Epoch 41/100\n",
      "196/196 [==============================] - 5s 26ms/step - loss: 0.1323 - accuracy: 0.9562 - val_loss: 3.5947 - val_accuracy: 0.5245\n",
      "Epoch 42/100\n",
      "196/196 [==============================] - 5s 26ms/step - loss: 0.1438 - accuracy: 0.9523 - val_loss: 3.7636 - val_accuracy: 0.5240\n",
      "Epoch 43/100\n",
      "196/196 [==============================] - 5s 26ms/step - loss: 0.1315 - accuracy: 0.9560 - val_loss: 3.5950 - val_accuracy: 0.5294\n",
      "Epoch 44/100\n",
      "196/196 [==============================] - 5s 26ms/step - loss: 0.1565 - accuracy: 0.9475 - val_loss: 3.5648 - val_accuracy: 0.5259\n",
      "Epoch 45/100\n",
      "196/196 [==============================] - 5s 26ms/step - loss: 0.1329 - accuracy: 0.9550 - val_loss: 3.8644 - val_accuracy: 0.5260\n",
      "Epoch 46/100\n",
      "196/196 [==============================] - 5s 26ms/step - loss: 0.1179 - accuracy: 0.9597 - val_loss: 3.9254 - val_accuracy: 0.5237\n",
      "Epoch 47/100\n",
      "196/196 [==============================] - 5s 26ms/step - loss: 0.1331 - accuracy: 0.9556 - val_loss: 3.9014 - val_accuracy: 0.5244\n",
      "Epoch 48/100\n",
      "196/196 [==============================] - 5s 26ms/step - loss: 0.1112 - accuracy: 0.9625 - val_loss: 3.8913 - val_accuracy: 0.5218\n",
      "Epoch 49/100\n",
      "196/196 [==============================] - 5s 26ms/step - loss: 0.1321 - accuracy: 0.9552 - val_loss: 3.8130 - val_accuracy: 0.5309\n",
      "Epoch 50/100\n",
      "196/196 [==============================] - 5s 26ms/step - loss: 0.1157 - accuracy: 0.9617 - val_loss: 3.7820 - val_accuracy: 0.5270\n",
      "Epoch 51/100\n",
      "196/196 [==============================] - 5s 26ms/step - loss: 0.1041 - accuracy: 0.9652 - val_loss: 3.9517 - val_accuracy: 0.5258\n",
      "Epoch 52/100\n",
      "196/196 [==============================] - 5s 26ms/step - loss: 0.1214 - accuracy: 0.9593 - val_loss: 3.8718 - val_accuracy: 0.5236\n",
      "Epoch 53/100\n",
      "196/196 [==============================] - 5s 26ms/step - loss: 0.1129 - accuracy: 0.9626 - val_loss: 3.9386 - val_accuracy: 0.5308\n",
      "Epoch 54/100\n",
      "196/196 [==============================] - 5s 26ms/step - loss: 0.0976 - accuracy: 0.9671 - val_loss: 3.9183 - val_accuracy: 0.5263\n",
      "Epoch 55/100\n",
      "196/196 [==============================] - 5s 26ms/step - loss: 0.1227 - accuracy: 0.9589 - val_loss: 3.9676 - val_accuracy: 0.5197\n",
      "Epoch 56/100\n",
      "196/196 [==============================] - 5s 26ms/step - loss: 0.0993 - accuracy: 0.9654 - val_loss: 4.1034 - val_accuracy: 0.5279\n",
      "Epoch 57/100\n"
     ]
    },
    {
     "name": "stdout",
     "output_type": "stream",
     "text": [
      "196/196 [==============================] - 5s 26ms/step - loss: 0.1203 - accuracy: 0.9606 - val_loss: 3.9841 - val_accuracy: 0.5294\n",
      "Epoch 58/100\n",
      "196/196 [==============================] - 5s 26ms/step - loss: 0.1066 - accuracy: 0.9645 - val_loss: 4.0976 - val_accuracy: 0.5339\n",
      "Epoch 59/100\n",
      "196/196 [==============================] - 5s 26ms/step - loss: 0.0939 - accuracy: 0.9684 - val_loss: 4.0903 - val_accuracy: 0.5276\n",
      "Epoch 60/100\n",
      "196/196 [==============================] - 5s 26ms/step - loss: 0.1079 - accuracy: 0.9652 - val_loss: 4.0280 - val_accuracy: 0.5249\n",
      "Epoch 61/100\n",
      "196/196 [==============================] - 5s 26ms/step - loss: 0.1046 - accuracy: 0.9654 - val_loss: 4.0411 - val_accuracy: 0.5271\n",
      "Epoch 62/100\n",
      "196/196 [==============================] - 5s 26ms/step - loss: 0.0976 - accuracy: 0.9677 - val_loss: 4.1019 - val_accuracy: 0.5309\n",
      "Epoch 63/100\n",
      "196/196 [==============================] - 5s 26ms/step - loss: 0.0974 - accuracy: 0.9679 - val_loss: 4.0075 - val_accuracy: 0.5303\n",
      "Epoch 64/100\n",
      "196/196 [==============================] - 5s 26ms/step - loss: 0.1021 - accuracy: 0.9659 - val_loss: 4.1679 - val_accuracy: 0.5305\n",
      "Epoch 65/100\n",
      "196/196 [==============================] - 5s 26ms/step - loss: 0.0931 - accuracy: 0.9686 - val_loss: 4.2059 - val_accuracy: 0.5316\n",
      "Epoch 66/100\n",
      "196/196 [==============================] - 5s 26ms/step - loss: 0.0845 - accuracy: 0.9723 - val_loss: 4.3657 - val_accuracy: 0.5219\n",
      "Epoch 67/100\n",
      "196/196 [==============================] - 5s 26ms/step - loss: 0.0908 - accuracy: 0.9701 - val_loss: 4.3249 - val_accuracy: 0.5277\n",
      "Epoch 68/100\n",
      "196/196 [==============================] - 5s 26ms/step - loss: 0.0852 - accuracy: 0.9721 - val_loss: 4.3128 - val_accuracy: 0.5332\n",
      "Epoch 69/100\n",
      "196/196 [==============================] - 5s 26ms/step - loss: 0.0967 - accuracy: 0.9691 - val_loss: 4.0743 - val_accuracy: 0.5311\n",
      "Epoch 70/100\n",
      "196/196 [==============================] - 5s 26ms/step - loss: 0.1046 - accuracy: 0.9659 - val_loss: 4.1855 - val_accuracy: 0.5218\n",
      "Epoch 71/100\n",
      "196/196 [==============================] - 5s 26ms/step - loss: 0.0818 - accuracy: 0.9733 - val_loss: 4.3673 - val_accuracy: 0.5354\n",
      "Epoch 72/100\n",
      "196/196 [==============================] - 5s 26ms/step - loss: 0.0638 - accuracy: 0.9788 - val_loss: 4.3993 - val_accuracy: 0.5264\n",
      "Epoch 73/100\n",
      "196/196 [==============================] - 5s 26ms/step - loss: 0.1013 - accuracy: 0.9674 - val_loss: 4.2991 - val_accuracy: 0.5206\n",
      "Epoch 74/100\n",
      "196/196 [==============================] - 5s 26ms/step - loss: 0.0943 - accuracy: 0.9683 - val_loss: 4.4116 - val_accuracy: 0.5342\n",
      "Epoch 75/100\n",
      "196/196 [==============================] - 5s 26ms/step - loss: 0.0751 - accuracy: 0.9757 - val_loss: 4.3793 - val_accuracy: 0.5276\n",
      "Epoch 76/100\n",
      "196/196 [==============================] - 5s 26ms/step - loss: 0.0683 - accuracy: 0.9787 - val_loss: 4.4110 - val_accuracy: 0.5314\n",
      "Epoch 77/100\n",
      "196/196 [==============================] - 5s 27ms/step - loss: 0.1036 - accuracy: 0.9674 - val_loss: 4.2541 - val_accuracy: 0.5320\n",
      "Epoch 78/100\n",
      "196/196 [==============================] - 5s 26ms/step - loss: 0.0949 - accuracy: 0.9688 - val_loss: 4.1602 - val_accuracy: 0.5368\n",
      "Epoch 79/100\n",
      "196/196 [==============================] - 5s 26ms/step - loss: 0.0834 - accuracy: 0.9743 - val_loss: 4.3025 - val_accuracy: 0.5279\n",
      "Epoch 80/100\n",
      "196/196 [==============================] - 5s 25ms/step - loss: 0.0714 - accuracy: 0.9765 - val_loss: 4.3740 - val_accuracy: 0.5318\n",
      "Epoch 81/100\n",
      "196/196 [==============================] - 5s 26ms/step - loss: 0.0614 - accuracy: 0.9803 - val_loss: 4.3699 - val_accuracy: 0.5288\n",
      "Epoch 82/100\n",
      "196/196 [==============================] - 5s 26ms/step - loss: 0.0860 - accuracy: 0.9726 - val_loss: 4.5533 - val_accuracy: 0.5182\n",
      "Epoch 83/100\n",
      "196/196 [==============================] - 5s 26ms/step - loss: 0.0801 - accuracy: 0.9743 - val_loss: 4.3920 - val_accuracy: 0.5276\n",
      "Epoch 84/100\n",
      "196/196 [==============================] - 5s 26ms/step - loss: 0.0591 - accuracy: 0.9808 - val_loss: 4.6879 - val_accuracy: 0.5343\n",
      "Epoch 85/100\n",
      "196/196 [==============================] - 5s 26ms/step - loss: 0.0770 - accuracy: 0.9756 - val_loss: 4.4535 - val_accuracy: 0.5326\n",
      "Epoch 86/100\n",
      "196/196 [==============================] - 5s 26ms/step - loss: 0.0747 - accuracy: 0.9762 - val_loss: 4.5426 - val_accuracy: 0.5290\n",
      "Epoch 87/100\n",
      "196/196 [==============================] - 5s 26ms/step - loss: 0.0830 - accuracy: 0.9737 - val_loss: 4.6275 - val_accuracy: 0.5294\n",
      "Epoch 88/100\n",
      "196/196 [==============================] - 5s 26ms/step - loss: 0.0899 - accuracy: 0.9717 - val_loss: 4.3452 - val_accuracy: 0.5294\n",
      "Epoch 89/100\n",
      "196/196 [==============================] - 5s 26ms/step - loss: 0.0679 - accuracy: 0.9778 - val_loss: 4.5777 - val_accuracy: 0.5316\n",
      "Epoch 90/100\n",
      "196/196 [==============================] - 5s 26ms/step - loss: 0.0625 - accuracy: 0.9798 - val_loss: 4.4025 - val_accuracy: 0.5301\n",
      "Epoch 91/100\n",
      "196/196 [==============================] - 5s 26ms/step - loss: 0.0730 - accuracy: 0.9765 - val_loss: 4.5493 - val_accuracy: 0.5309\n",
      "Epoch 92/100\n",
      "196/196 [==============================] - 5s 26ms/step - loss: 0.0708 - accuracy: 0.9772 - val_loss: 4.4459 - val_accuracy: 0.5316\n",
      "Epoch 93/100\n",
      "196/196 [==============================] - 5s 27ms/step - loss: 0.0676 - accuracy: 0.9784 - val_loss: 4.4891 - val_accuracy: 0.5306\n",
      "Epoch 94/100\n",
      "196/196 [==============================] - 5s 27ms/step - loss: 0.0552 - accuracy: 0.9819 - val_loss: 4.8106 - val_accuracy: 0.5313\n",
      "Epoch 95/100\n",
      "196/196 [==============================] - 5s 27ms/step - loss: 0.0969 - accuracy: 0.9695 - val_loss: 4.4655 - val_accuracy: 0.5315\n",
      "Epoch 96/100\n",
      "196/196 [==============================] - 6s 31ms/step - loss: 0.0679 - accuracy: 0.9778 - val_loss: 4.6152 - val_accuracy: 0.5353\n",
      "Epoch 97/100\n",
      "196/196 [==============================] - 6s 29ms/step - loss: 0.0788 - accuracy: 0.9745 - val_loss: 4.5823 - val_accuracy: 0.5212\n",
      "Epoch 98/100\n",
      "196/196 [==============================] - 7s 35ms/step - loss: 0.0750 - accuracy: 0.9757 - val_loss: 4.5112 - val_accuracy: 0.5325\n",
      "Epoch 99/100\n",
      "196/196 [==============================] - 6s 30ms/step - loss: 0.0445 - accuracy: 0.9857 - val_loss: 4.7506 - val_accuracy: 0.5298\n",
      "Epoch 100/100\n",
      "196/196 [==============================] - 6s 30ms/step - loss: 0.0504 - accuracy: 0.9841 - val_loss: 4.7415 - val_accuracy: 0.5289\n"
     ]
    },
    {
     "data": {
      "text/plain": [
       "<tensorflow.python.keras.callbacks.History at 0x7fb630c79f10>"
      ]
     },
     "execution_count": 11,
     "metadata": {},
     "output_type": "execute_result"
    }
   ],
   "source": [
    "model.fit(x_train, y_train, \n",
    "          epochs=EPOCHS, \n",
    "          batch_size=BATCH_SIZE, \n",
    "          validation_data=(x_test, y_test), \n",
    "          shuffle=True)"
   ]
  },
  {
   "cell_type": "code",
   "execution_count": 12,
   "metadata": {},
   "outputs": [
    {
     "data": {
      "image/png": "[encoded data removed]",
      "text/plain": [
       "<Figure size 432x288 with 1 Axes>"
      ]
     },
     "metadata": {
      "needs_background": "light"
     },
     "output_type": "display_data"
    },
    {
     "data": {
      "image/png": "[encoded data removed]",
      "text/plain": [
       "<Figure size 432x288 with 1 Axes>"
      ]
     },
     "metadata": {
      "needs_background": "light"
     },
     "output_type": "display_data"
    }
   ],
   "source": [
    "import matplotlib.pyplot as plt\n",
    "\n",
    "\n",
    "train_loss = model.history.history[\"loss\"]\n",
    "valid_loss = model.history.history[\"val_loss\"]\n",
    "\n",
    "train_acc = model.history.history[\"accuracy\"]\n",
    "valid_acc = model.history.history[\"val_accuracy\"]\n",
    "\n",
    "plt.plot(range(len(train_loss)), train_loss, label=\"train loss\")\n",
    "plt.plot(range(len(valid_loss)), valid_loss, label=\"valid loss\")\n",
    "plt.legend()\n",
    "plt.title(\"Loss\")\n",
    "plt.show()\n",
    "\n",
    "plt.plot(range(len(train_acc)), train_acc, label=\"train accuracy\")\n",
    "plt.plot(range(len(valid_acc)), valid_acc, label=\"valid accuracy\")\n",
    "plt.legend()\n",
    "plt.title(\"Accuracy\")\n",
    "plt.show()"
   ]
  },
  {
   "cell_type": "code",
   "execution_count": null,
   "metadata": {},
   "outputs": [],
   "source": []
  }
 ],
 "metadata": {
  "kernelspec": {
   "display_name": "Python 3",
   "language": "python",
   "name": "python3"
  },
  "language_info": {
   "codemirror_mode": {
    "name": "ipython",
    "version": 3
   },
   "file_extension": ".py",
   "mimetype": "text/x-python",
   "name": "python",
   "nbconvert_exporter": "python",
   "pygments_lexer": "ipython3",
   "version": "3.7.4"
  }
 },
 "nbformat": 4,
 "nbformat_minor": 2
}
