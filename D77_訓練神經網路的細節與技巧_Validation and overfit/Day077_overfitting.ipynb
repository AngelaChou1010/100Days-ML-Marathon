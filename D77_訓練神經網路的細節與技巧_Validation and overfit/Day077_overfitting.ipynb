{
 "cells": [
  {
   "cell_type": "markdown",
   "metadata": {},
   "source": [
    "## 範例重點\n",
    "* 學會從 Keras 內建函式取得資料\n",
    "* 能夠建立簡易的深度學習模型\n",
    "* 觀察並了解 Overfit 現象"
   ]
  },
  {
   "cell_type": "code",
   "execution_count": 2,
   "metadata": {},
   "outputs": [],
   "source": [
    "import os\n",
    "import keras\n",
    "\n",
    "# 本範例不需使用 GPU, 將 GPU 設定為 \"無\"\n",
    "os.environ[\"CUDA_VISIBLE_DEVICES\"] = \"\""
   ]
  },
  {
   "cell_type": "code",
   "execution_count": 3,
   "metadata": {},
   "outputs": [],
   "source": [
    "# 從 Keras 的內建功能中，取得 train 與 test 資料集\n",
    "train, test = keras.datasets.cifar10.load_data()"
   ]
  },
  {
   "cell_type": "code",
   "execution_count": 4,
   "metadata": {},
   "outputs": [],
   "source": [
    "# 將 X 與 Y 獨立放進變數\n",
    "x_train, y_train = train\n",
    "x_test, y_test = test\n",
    "# 資料前處理 - 標準化\n",
    "x_train = x_train / 255.\n",
    "x_test = x_test / 255.\n",
    "\n",
    "# 將資料從圖形 (RGB) 轉為向量 (Single Vector)\n",
    "x_train = x_train.reshape((len(x_train), -1))\n",
    "x_test = x_test.reshape((len(x_test), -1))\n",
    "\n",
    "# 將目標轉為 one-hot encoding\n",
    "y_train = keras.utils.to_categorical(y_train, num_classes=10)\n",
    "y_test = keras.utils.to_categorical(y_test, num_classes=10)"
   ]
  },
  {
   "cell_type": "code",
   "execution_count": 5,
   "metadata": {},
   "outputs": [],
   "source": [
    "# 建立一個有三層隱藏層之神經網路\n",
    "def build_mlp():\n",
    "    input_layer = keras.layers.Input([x_train.shape[-1]])\n",
    "    x = keras.layers.Dense(units=512, activation=\"relu\")(input_layer)\n",
    "    x = keras.layers.Dense(units=256, activation=\"relu\")(x)\n",
    "    x = keras.layers.Dense(units=128, activation=\"relu\")(x)\n",
    "    out = keras.layers.Dense(units=10, activation=\"softmax\")(x)\n",
    "    \n",
    "    model = keras.models.Model(inputs=[input_layer], outputs=[out])\n",
    "    return model"
   ]
  },
  {
   "cell_type": "code",
   "execution_count": 6,
   "metadata": {},
   "outputs": [
    {
     "name": "stdout",
     "output_type": "stream",
     "text": [
      "Model: \"functional_1\"\n",
      "_________________________________________________________________\n",
      "Layer (type)                 Output Shape              Param #   \n",
      "=================================================================\n",
      "input_1 (InputLayer)         [(None, 3072)]            0         \n",
      "_________________________________________________________________\n",
      "dense (Dense)                (None, 512)               1573376   \n",
      "_________________________________________________________________\n",
      "dense_1 (Dense)              (None, 256)               131328    \n",
      "_________________________________________________________________\n",
      "dense_2 (Dense)              (None, 128)               32896     \n",
      "_________________________________________________________________\n",
      "dense_3 (Dense)              (None, 10)                1290      \n",
      "=================================================================\n",
      "Total params: 1,738,890\n",
      "Trainable params: 1,738,890\n",
      "Non-trainable params: 0\n",
      "_________________________________________________________________\n"
     ]
    }
   ],
   "source": [
    "model = build_mlp()\n",
    "# 用 Keras 內建方法檢視模型各層參數量\n",
    "model.summary()\n",
    "\n",
    "optimizer = keras.optimizers.Adam(lr=0.001)\n",
    "model.compile(loss=\"categorical_crossentropy\", metrics=[\"accuracy\"], optimizer=optimizer)"
   ]
  },
  {
   "cell_type": "code",
   "execution_count": 7,
   "metadata": {},
   "outputs": [
    {
     "name": "stdout",
     "output_type": "stream",
     "text": [
      "Epoch 1/100\n",
      "196/196 [==============================] - 5s 28ms/step - loss: 1.9154 - accuracy: 0.3094 - val_loss: 1.7598 - val_accuracy: 0.3602\n",
      "Epoch 2/100\n",
      "196/196 [==============================] - 5s 25ms/step - loss: 1.6971 - accuracy: 0.3911 - val_loss: 1.6357 - val_accuracy: 0.4143\n",
      "Epoch 3/100\n",
      "196/196 [==============================] - 5s 26ms/step - loss: 1.6146 - accuracy: 0.4211 - val_loss: 1.5819 - val_accuracy: 0.4300\n",
      "Epoch 4/100\n",
      "196/196 [==============================] - 5s 26ms/step - loss: 1.5418 - accuracy: 0.4487 - val_loss: 1.5889 - val_accuracy: 0.4327\n",
      "Epoch 5/100\n",
      "196/196 [==============================] - 6s 31ms/step - loss: 1.5110 - accuracy: 0.4610 - val_loss: 1.5138 - val_accuracy: 0.4592\n",
      "Epoch 6/100\n",
      "196/196 [==============================] - 5s 27ms/step - loss: 1.4643 - accuracy: 0.4790 - val_loss: 1.4960 - val_accuracy: 0.4675\n",
      "Epoch 7/100\n",
      "196/196 [==============================] - 6s 32ms/step - loss: 1.4364 - accuracy: 0.4881 - val_loss: 1.4796 - val_accuracy: 0.4716\n",
      "Epoch 8/100\n",
      "196/196 [==============================] - 6s 32ms/step - loss: 1.4080 - accuracy: 0.4983 - val_loss: 1.4200 - val_accuracy: 0.4951\n",
      "Epoch 9/100\n",
      "196/196 [==============================] - 5s 26ms/step - loss: 1.3760 - accuracy: 0.5089 - val_loss: 1.4619 - val_accuracy: 0.4807\n",
      "Epoch 10/100\n",
      "196/196 [==============================] - 5s 25ms/step - loss: 1.3513 - accuracy: 0.5198 - val_loss: 1.4994 - val_accuracy: 0.4620\n",
      "Epoch 11/100\n",
      "196/196 [==============================] - 5s 27ms/step - loss: 1.3313 - accuracy: 0.5241 - val_loss: 1.4013 - val_accuracy: 0.4968\n",
      "Epoch 12/100\n",
      "196/196 [==============================] - 7s 34ms/step - loss: 1.2974 - accuracy: 0.5378 - val_loss: 1.3996 - val_accuracy: 0.5060\n",
      "Epoch 13/100\n",
      "196/196 [==============================] - 6s 31ms/step - loss: 1.2740 - accuracy: 0.5469 - val_loss: 1.4597 - val_accuracy: 0.4876\n",
      "Epoch 14/100\n",
      "196/196 [==============================] - 5s 25ms/step - loss: 1.2459 - accuracy: 0.5551 - val_loss: 1.3852 - val_accuracy: 0.5147\n",
      "Epoch 15/100\n",
      "196/196 [==============================] - 6s 29ms/step - loss: 1.2276 - accuracy: 0.5618 - val_loss: 1.3550 - val_accuracy: 0.5202\n",
      "Epoch 16/100\n",
      "196/196 [==============================] - 7s 34ms/step - loss: 1.2003 - accuracy: 0.5748 - val_loss: 1.4036 - val_accuracy: 0.5067\n",
      "Epoch 17/100\n",
      "196/196 [==============================] - 10s 52ms/step - loss: 1.1873 - accuracy: 0.5752 - val_loss: 1.3540 - val_accuracy: 0.5260\n",
      "Epoch 18/100\n",
      "196/196 [==============================] - 6s 31ms/step - loss: 1.1666 - accuracy: 0.5862 - val_loss: 1.3675 - val_accuracy: 0.5174\n",
      "Epoch 19/100\n",
      "196/196 [==============================] - 6s 29ms/step - loss: 1.1368 - accuracy: 0.5949 - val_loss: 1.3710 - val_accuracy: 0.5209\n",
      "Epoch 20/100\n",
      "196/196 [==============================] - 6s 30ms/step - loss: 1.1226 - accuracy: 0.5989 - val_loss: 1.3549 - val_accuracy: 0.5201\n",
      "Epoch 21/100\n",
      "196/196 [==============================] - 6s 30ms/step - loss: 1.0942 - accuracy: 0.6099 - val_loss: 1.3482 - val_accuracy: 0.5283\n",
      "Epoch 22/100\n",
      "196/196 [==============================] - 6s 29ms/step - loss: 1.0928 - accuracy: 0.6089 - val_loss: 1.3844 - val_accuracy: 0.5177\n",
      "Epoch 23/100\n",
      "196/196 [==============================] - 6s 29ms/step - loss: 1.0577 - accuracy: 0.6231 - val_loss: 1.3760 - val_accuracy: 0.5276\n",
      "Epoch 24/100\n",
      "196/196 [==============================] - 6s 32ms/step - loss: 1.0350 - accuracy: 0.6315 - val_loss: 1.3649 - val_accuracy: 0.5298\n",
      "Epoch 25/100\n",
      "196/196 [==============================] - 6s 31ms/step - loss: 1.0206 - accuracy: 0.6375 - val_loss: 1.3690 - val_accuracy: 0.5290\n",
      "Epoch 26/100\n",
      "196/196 [==============================] - 5s 27ms/step - loss: 1.0021 - accuracy: 0.6431 - val_loss: 1.4067 - val_accuracy: 0.5206\n",
      "Epoch 27/100\n",
      "196/196 [==============================] - 5s 25ms/step - loss: 0.9973 - accuracy: 0.6444 - val_loss: 1.3834 - val_accuracy: 0.5337\n",
      "Epoch 28/100\n",
      "196/196 [==============================] - 6s 29ms/step - loss: 0.9677 - accuracy: 0.6522 - val_loss: 1.3952 - val_accuracy: 0.5306\n",
      "Epoch 29/100\n",
      "196/196 [==============================] - 6s 29ms/step - loss: 0.9421 - accuracy: 0.6645 - val_loss: 1.4261 - val_accuracy: 0.5243\n",
      "Epoch 30/100\n",
      "196/196 [==============================] - 6s 31ms/step - loss: 0.9234 - accuracy: 0.6703 - val_loss: 1.4885 - val_accuracy: 0.5079\n",
      "Epoch 31/100\n",
      "196/196 [==============================] - 8s 39ms/step - loss: 0.9075 - accuracy: 0.6768 - val_loss: 1.4321 - val_accuracy: 0.5300\n",
      "Epoch 32/100\n",
      "196/196 [==============================] - 6s 33ms/step - loss: 0.8898 - accuracy: 0.6828 - val_loss: 1.4684 - val_accuracy: 0.5282\n",
      "Epoch 33/100\n",
      "196/196 [==============================] - 6s 30ms/step - loss: 0.8785 - accuracy: 0.6847 - val_loss: 1.4384 - val_accuracy: 0.5322\n",
      "Epoch 34/100\n",
      "196/196 [==============================] - 6s 30ms/step - loss: 0.8540 - accuracy: 0.6940 - val_loss: 1.4853 - val_accuracy: 0.5287\n",
      "Epoch 35/100\n",
      "196/196 [==============================] - 5s 28ms/step - loss: 0.8541 - accuracy: 0.6958 - val_loss: 1.5535 - val_accuracy: 0.5126\n",
      "Epoch 36/100\n",
      "196/196 [==============================] - 6s 30ms/step - loss: 0.8217 - accuracy: 0.7070 - val_loss: 1.5373 - val_accuracy: 0.5292\n",
      "Epoch 37/100\n",
      "196/196 [==============================] - 5s 26ms/step - loss: 0.8067 - accuracy: 0.7141 - val_loss: 1.5436 - val_accuracy: 0.5289\n",
      "Epoch 38/100\n",
      "196/196 [==============================] - 5s 26ms/step - loss: 0.7847 - accuracy: 0.7217 - val_loss: 1.5467 - val_accuracy: 0.5284\n",
      "Epoch 39/100\n",
      "196/196 [==============================] - 6s 30ms/step - loss: 0.7763 - accuracy: 0.7240 - val_loss: 1.5723 - val_accuracy: 0.5227\n",
      "Epoch 40/100\n",
      "196/196 [==============================] - 5s 24ms/step - loss: 0.7586 - accuracy: 0.7290 - val_loss: 1.6043 - val_accuracy: 0.5275\n",
      "Epoch 41/100\n",
      "196/196 [==============================] - 5s 24ms/step - loss: 0.7368 - accuracy: 0.7378 - val_loss: 1.5967 - val_accuracy: 0.5266\n",
      "Epoch 42/100\n",
      "196/196 [==============================] - 5s 24ms/step - loss: 0.7417 - accuracy: 0.7335 - val_loss: 1.6417 - val_accuracy: 0.5176\n",
      "Epoch 43/100\n",
      "196/196 [==============================] - 5s 24ms/step - loss: 0.7078 - accuracy: 0.7462 - val_loss: 1.6716 - val_accuracy: 0.5133\n",
      "Epoch 44/100\n",
      "196/196 [==============================] - 5s 24ms/step - loss: 0.6946 - accuracy: 0.7532 - val_loss: 1.6801 - val_accuracy: 0.5201\n",
      "Epoch 45/100\n",
      "196/196 [==============================] - 5s 26ms/step - loss: 0.6754 - accuracy: 0.7602 - val_loss: 1.7040 - val_accuracy: 0.5221\n",
      "Epoch 46/100\n",
      "196/196 [==============================] - 5s 24ms/step - loss: 0.6580 - accuracy: 0.7644 - val_loss: 1.6859 - val_accuracy: 0.5236\n",
      "Epoch 47/100\n",
      "196/196 [==============================] - 5s 24ms/step - loss: 0.6500 - accuracy: 0.7687 - val_loss: 1.7281 - val_accuracy: 0.5224\n",
      "Epoch 48/100\n",
      "196/196 [==============================] - 5s 24ms/step - loss: 0.6447 - accuracy: 0.7703 - val_loss: 1.7425 - val_accuracy: 0.5250\n",
      "Epoch 49/100\n",
      "196/196 [==============================] - 5s 24ms/step - loss: 0.6271 - accuracy: 0.7755 - val_loss: 1.7556 - val_accuracy: 0.5241\n",
      "Epoch 50/100\n",
      "196/196 [==============================] - 6s 30ms/step - loss: 0.6101 - accuracy: 0.7816 - val_loss: 1.8290 - val_accuracy: 0.5208\n",
      "Epoch 51/100\n",
      "196/196 [==============================] - 6s 28ms/step - loss: 0.6107 - accuracy: 0.7816 - val_loss: 1.8096 - val_accuracy: 0.5145\n",
      "Epoch 52/100\n",
      "196/196 [==============================] - 6s 31ms/step - loss: 0.5803 - accuracy: 0.7931 - val_loss: 1.9064 - val_accuracy: 0.5185\n",
      "Epoch 53/100\n",
      "196/196 [==============================] - 6s 30ms/step - loss: 0.5782 - accuracy: 0.7925 - val_loss: 1.8450 - val_accuracy: 0.5267\n",
      "Epoch 54/100\n",
      "196/196 [==============================] - 6s 31ms/step - loss: 0.5678 - accuracy: 0.7963 - val_loss: 1.8932 - val_accuracy: 0.5181\n",
      "Epoch 55/100\n",
      "196/196 [==============================] - 6s 29ms/step - loss: 0.5429 - accuracy: 0.8057 - val_loss: 1.9389 - val_accuracy: 0.5183\n",
      "Epoch 56/100\n",
      "196/196 [==============================] - 5s 28ms/step - loss: 0.5363 - accuracy: 0.8080 - val_loss: 2.0147 - val_accuracy: 0.5133\n",
      "Epoch 57/100\n"
     ]
    },
    {
     "name": "stdout",
     "output_type": "stream",
     "text": [
      "196/196 [==============================] - 6s 28ms/step - loss: 0.5253 - accuracy: 0.8127 - val_loss: 2.0573 - val_accuracy: 0.5071\n",
      "Epoch 58/100\n",
      "196/196 [==============================] - 6s 29ms/step - loss: 0.5263 - accuracy: 0.8122 - val_loss: 2.0163 - val_accuracy: 0.5213\n",
      "Epoch 59/100\n",
      "196/196 [==============================] - 6s 28ms/step - loss: 0.5006 - accuracy: 0.8215 - val_loss: 2.0736 - val_accuracy: 0.5095\n",
      "Epoch 60/100\n",
      "196/196 [==============================] - 5s 28ms/step - loss: 0.4970 - accuracy: 0.8212 - val_loss: 2.1291 - val_accuracy: 0.5153\n",
      "Epoch 61/100\n",
      "196/196 [==============================] - 6s 28ms/step - loss: 0.4908 - accuracy: 0.8241 - val_loss: 2.1770 - val_accuracy: 0.5188\n",
      "Epoch 62/100\n",
      "196/196 [==============================] - 6s 29ms/step - loss: 0.4797 - accuracy: 0.8289 - val_loss: 2.1418 - val_accuracy: 0.5214\n",
      "Epoch 63/100\n",
      "196/196 [==============================] - 5s 28ms/step - loss: 0.4760 - accuracy: 0.8285 - val_loss: 2.1933 - val_accuracy: 0.5119\n",
      "Epoch 64/100\n",
      "196/196 [==============================] - 6s 29ms/step - loss: 0.4680 - accuracy: 0.8304 - val_loss: 2.2425 - val_accuracy: 0.5122\n",
      "Epoch 65/100\n",
      "196/196 [==============================] - 6s 29ms/step - loss: 0.4402 - accuracy: 0.8430 - val_loss: 2.2524 - val_accuracy: 0.5101\n",
      "Epoch 66/100\n",
      "196/196 [==============================] - 5s 28ms/step - loss: 0.4555 - accuracy: 0.8349 - val_loss: 2.2939 - val_accuracy: 0.5061\n",
      "Epoch 67/100\n",
      "196/196 [==============================] - 6s 29ms/step - loss: 0.4387 - accuracy: 0.8426 - val_loss: 2.2501 - val_accuracy: 0.5117\n",
      "Epoch 68/100\n",
      "196/196 [==============================] - 5s 28ms/step - loss: 0.4279 - accuracy: 0.8457 - val_loss: 2.3783 - val_accuracy: 0.5098\n",
      "Epoch 69/100\n",
      "196/196 [==============================] - 6s 28ms/step - loss: 0.4167 - accuracy: 0.8511 - val_loss: 2.3945 - val_accuracy: 0.5043\n",
      "Epoch 70/100\n",
      "196/196 [==============================] - 6s 28ms/step - loss: 0.4213 - accuracy: 0.8478 - val_loss: 2.3142 - val_accuracy: 0.5184\n",
      "Epoch 71/100\n",
      "196/196 [==============================] - 5s 28ms/step - loss: 0.3949 - accuracy: 0.8583 - val_loss: 2.5168 - val_accuracy: 0.5096\n",
      "Epoch 72/100\n",
      "196/196 [==============================] - 5s 28ms/step - loss: 0.3936 - accuracy: 0.8576 - val_loss: 2.4752 - val_accuracy: 0.5197\n",
      "Epoch 73/100\n",
      "196/196 [==============================] - 5s 28ms/step - loss: 0.3983 - accuracy: 0.8574 - val_loss: 2.4853 - val_accuracy: 0.5166\n",
      "Epoch 74/100\n",
      "196/196 [==============================] - 5s 27ms/step - loss: 0.3935 - accuracy: 0.8577 - val_loss: 2.6353 - val_accuracy: 0.5084\n",
      "Epoch 75/100\n",
      "196/196 [==============================] - 5s 28ms/step - loss: 0.3834 - accuracy: 0.8611 - val_loss: 2.7216 - val_accuracy: 0.5057\n",
      "Epoch 76/100\n",
      "196/196 [==============================] - 5s 27ms/step - loss: 0.3779 - accuracy: 0.8625 - val_loss: 2.6314 - val_accuracy: 0.5070\n",
      "Epoch 77/100\n",
      "196/196 [==============================] - 5s 27ms/step - loss: 0.3799 - accuracy: 0.8623 - val_loss: 2.5988 - val_accuracy: 0.5200\n",
      "Epoch 78/100\n",
      "196/196 [==============================] - 5s 27ms/step - loss: 0.3790 - accuracy: 0.8647 - val_loss: 2.6896 - val_accuracy: 0.5025\n",
      "Epoch 79/100\n",
      "196/196 [==============================] - 5s 27ms/step - loss: 0.3638 - accuracy: 0.8685 - val_loss: 2.7284 - val_accuracy: 0.5094\n",
      "Epoch 80/100\n",
      "196/196 [==============================] - 5s 28ms/step - loss: 0.3458 - accuracy: 0.8768 - val_loss: 2.7010 - val_accuracy: 0.5132\n",
      "Epoch 81/100\n",
      "196/196 [==============================] - 5s 27ms/step - loss: 0.3518 - accuracy: 0.8738 - val_loss: 2.7551 - val_accuracy: 0.5087\n",
      "Epoch 82/100\n",
      "196/196 [==============================] - 5s 28ms/step - loss: 0.3337 - accuracy: 0.8798 - val_loss: 2.7617 - val_accuracy: 0.5026\n",
      "Epoch 83/100\n",
      "196/196 [==============================] - 5s 27ms/step - loss: 0.3134 - accuracy: 0.8865 - val_loss: 2.9514 - val_accuracy: 0.5052\n",
      "Epoch 84/100\n",
      "196/196 [==============================] - 5s 28ms/step - loss: 0.3465 - accuracy: 0.8763 - val_loss: 2.8169 - val_accuracy: 0.5094\n",
      "Epoch 85/100\n",
      "196/196 [==============================] - 5s 27ms/step - loss: 0.3092 - accuracy: 0.8893 - val_loss: 3.0052 - val_accuracy: 0.5041\n",
      "Epoch 86/100\n",
      "196/196 [==============================] - 5s 27ms/step - loss: 0.3133 - accuracy: 0.8867 - val_loss: 2.8891 - val_accuracy: 0.5106\n",
      "Epoch 87/100\n",
      "196/196 [==============================] - 5s 27ms/step - loss: 0.3269 - accuracy: 0.8824 - val_loss: 2.9856 - val_accuracy: 0.5100\n",
      "Epoch 88/100\n",
      "196/196 [==============================] - 5s 27ms/step - loss: 0.3209 - accuracy: 0.8843 - val_loss: 3.0193 - val_accuracy: 0.4962\n",
      "Epoch 89/100\n",
      "196/196 [==============================] - 5s 27ms/step - loss: 0.3261 - accuracy: 0.8816 - val_loss: 3.1186 - val_accuracy: 0.5092\n",
      "Epoch 90/100\n",
      "196/196 [==============================] - 5s 27ms/step - loss: 0.2839 - accuracy: 0.8984 - val_loss: 3.0494 - val_accuracy: 0.5085\n",
      "Epoch 91/100\n",
      "196/196 [==============================] - 6s 29ms/step - loss: 0.2966 - accuracy: 0.8923 - val_loss: 3.0517 - val_accuracy: 0.4985\n",
      "Epoch 92/100\n",
      "196/196 [==============================] - 7s 36ms/step - loss: 0.3093 - accuracy: 0.8874 - val_loss: 3.1338 - val_accuracy: 0.5069\n",
      "Epoch 93/100\n",
      "196/196 [==============================] - 5s 28ms/step - loss: 0.3180 - accuracy: 0.8852 - val_loss: 3.1501 - val_accuracy: 0.5028\n",
      "Epoch 94/100\n",
      "196/196 [==============================] - 6s 28ms/step - loss: 0.2828 - accuracy: 0.8986 - val_loss: 3.1600 - val_accuracy: 0.5144\n",
      "Epoch 95/100\n",
      "196/196 [==============================] - 6s 28ms/step - loss: 0.2693 - accuracy: 0.9016 - val_loss: 3.1780 - val_accuracy: 0.5159\n",
      "Epoch 96/100\n",
      "196/196 [==============================] - 6s 28ms/step - loss: 0.2786 - accuracy: 0.8997 - val_loss: 3.2335 - val_accuracy: 0.5087\n",
      "Epoch 97/100\n",
      "196/196 [==============================] - 5s 27ms/step - loss: 0.2899 - accuracy: 0.8950 - val_loss: 3.3095 - val_accuracy: 0.5024\n",
      "Epoch 98/100\n",
      "196/196 [==============================] - 5s 28ms/step - loss: 0.2828 - accuracy: 0.8976 - val_loss: 3.2918 - val_accuracy: 0.5016\n",
      "Epoch 99/100\n",
      "196/196 [==============================] - 5s 27ms/step - loss: 0.2742 - accuracy: 0.9016 - val_loss: 3.3100 - val_accuracy: 0.5091\n",
      "Epoch 100/100\n",
      "196/196 [==============================] - 6s 28ms/step - loss: 0.2709 - accuracy: 0.9027 - val_loss: 3.5092 - val_accuracy: 0.4982\n"
     ]
    },
    {
     "data": {
      "text/plain": [
       "<tensorflow.python.keras.callbacks.History at 0x7ffb78034750>"
      ]
     },
     "execution_count": 7,
     "metadata": {},
     "output_type": "execute_result"
    }
   ],
   "source": [
    "# 訓練模型並檢視驗證集的結果\n",
    "model.fit(x_train, y_train, \n",
    "          epochs=100, \n",
    "          batch_size=256, \n",
    "          validation_data=(x_test, y_test), \n",
    "          shuffle=True)"
   ]
  },
  {
   "cell_type": "code",
   "execution_count": 9,
   "metadata": {},
   "outputs": [
    {
     "data": {
      "image/png": "[encoded data removed]",
      "text/plain": [
       "<Figure size 432x288 with 1 Axes>"
      ]
     },
     "metadata": {
      "needs_background": "light"
     },
     "output_type": "display_data"
    },
    {
     "data": {
      "image/png": "[encoded data removed]",
      "text/plain": [
       "<Figure size 432x288 with 1 Axes>"
      ]
     },
     "metadata": {
      "needs_background": "light"
     },
     "output_type": "display_data"
    }
   ],
   "source": [
    "# 以視覺畫方式檢視訓練過程\n",
    "import matplotlib.pyplot as plt\n",
    "train_loss = model.history.history[\"loss\"]\n",
    "valid_loss = model.history.history[\"val_loss\"]\n",
    "\n",
    "train_acc = model.history.history[\"accuracy\"]\n",
    "valid_acc = model.history.history[\"val_accuracy\"]\n",
    "\n",
    "plt.plot(range(len(train_loss)), train_loss, label=\"train loss\")\n",
    "plt.plot(range(len(valid_loss)), valid_loss, label=\"valid loss\")\n",
    "plt.legend()\n",
    "plt.title(\"Loss\")\n",
    "plt.show()\n",
    "\n",
    "plt.plot(range(len(train_acc)), train_acc, label=\"train accuracy\")\n",
    "plt.plot(range(len(valid_acc)), valid_acc, label=\"valid accuracy\")\n",
    "plt.legend()\n",
    "plt.title(\"Accuracy\")\n",
    "plt.show()"
   ]
  },
  {
   "cell_type": "markdown",
   "metadata": {},
   "source": [
    "## 作業\n",
    "1. 請將 Epoch 加到 500 個，並觀察 learning curve 的走勢\n",
    "2. 請將 Optimizer 換成 SGD，並觀察 learning curve 的走勢"
   ]
  }
 ],
 "metadata": {
  "kernelspec": {
   "display_name": "Python 3",
   "language": "python",
   "name": "python3"
  },
  "language_info": {
   "codemirror_mode": {
    "name": "ipython",
    "version": 3
   },
   "file_extension": ".py",
   "mimetype": "text/x-python",
   "name": "python",
   "nbconvert_exporter": "python",
   "pygments_lexer": "ipython3",
   "version": "3.7.4"
  }
 },
 "nbformat": 4,
 "nbformat_minor": 2
}
