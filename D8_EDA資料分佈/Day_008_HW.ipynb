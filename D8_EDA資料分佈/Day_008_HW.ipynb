{
 "cells": [
  {
   "cell_type": "markdown",
   "metadata": {},
   "source": [
    "# [作業目標]\n",
    "- 對資料做更多處理 : 顯示特定欄位的統計值與直方圖"
   ]
  },
  {
   "cell_type": "markdown",
   "metadata": {},
   "source": [
    "# [作業重點]\n",
    "- 試著顯示特定欄位的基礎統計數值 (In[4], Out[4], Hint : describe())\n",
    "- 試著顯示特定欄位的直方圖 (In[5], Out[5], Hint : .hist())"
   ]
  },
  {
   "cell_type": "code",
   "execution_count": 1,
   "metadata": {},
   "outputs": [],
   "source": [
    "# Import 需要的套件\n",
    "import os\n",
    "import numpy as np\n",
    "import pandas as pd\n",
    "\n",
    "# 設定 data_path\n",
    "dir_data = './data/'"
   ]
  },
  {
   "cell_type": "code",
   "execution_count": 2,
   "metadata": {},
   "outputs": [],
   "source": [
    "f_app_train = os.path.join(dir_data, 'application_train.csv')\n",
    "app_train = pd.read_csv(f_app_train)"
   ]
  },
  {
   "cell_type": "code",
   "execution_count": 3,
   "metadata": {},
   "outputs": [],
   "source": [
    "import matplotlib.pyplot as plt\n",
    "%matplotlib inline"
   ]
  },
  {
   "cell_type": "markdown",
   "metadata": {},
   "source": [
    "## 練習時間"
   ]
  },
  {
   "cell_type": "markdown",
   "metadata": {},
   "source": [
    "觀察有興趣的欄位的資料分佈，並嘗試找出有趣的訊息\n",
    "#### Eg\n",
    "- 計算任意欄位的平均數及標準差\n",
    "- 畫出任意欄位的[直方圖](https://zh.wikipedia.org/zh-tw/%E7%9B%B4%E6%96%B9%E5%9B%BE)\n",
    "\n",
    "### Hints:\n",
    "- [Descriptive Statistics For pandas Dataframe](https://chrisalbon.com/python/data_wrangling/pandas_dataframe_descriptive_stats/)\n",
    "- [pandas 中的繪圖函數](https://amaozhao.gitbooks.io/pandas-notebook/content/pandas%E4%B8%AD%E7%9A%84%E7%BB%98%E5%9B%BE%E5%87%BD%E6%95%B0.html)\n"
   ]
  },
  {
   "cell_type": "code",
   "execution_count": 15,
   "metadata": {},
   "outputs": [],
   "source": [
    "int_features = []\n",
    "float_features = []\n",
    "object_features = []\n",
    "for i in app_train.columns:\n",
    "    if app_train[i].dtypes == np.dtype('int64'):\n",
    "        int_features.append(i)\n",
    "    elif app_train[i].dtypes == np.dtype('float64'):\n",
    "        float_features.append(i)\n",
    "    elif app_train[i].dtypes == np.dtype('object'):\n",
    "        object_features.append(i)\n",
    "    else:\n",
    "        print(i + \"is not belong to any dtype\")"
   ]
  },
  {
   "cell_type": "code",
   "execution_count": 23,
   "metadata": {},
   "outputs": [
    {
     "data": {
      "text/html": [
       "<div>\n",
       "<style scoped>\n",
       "    .dataframe tbody tr th:only-of-type {\n",
       "        vertical-align: middle;\n",
       "    }\n",
       "\n",
       "    .dataframe tbody tr th {\n",
       "        vertical-align: top;\n",
       "    }\n",
       "\n",
       "    .dataframe thead th {\n",
       "        text-align: right;\n",
       "    }\n",
       "</style>\n",
       "<table border=\"1\" class=\"dataframe\">\n",
       "  <thead>\n",
       "    <tr style=\"text-align: right;\">\n",
       "      <th></th>\n",
       "      <th>index</th>\n",
       "    </tr>\n",
       "    <tr>\n",
       "      <th>0</th>\n",
       "      <th></th>\n",
       "    </tr>\n",
       "  </thead>\n",
       "  <tbody>\n",
       "    <tr>\n",
       "      <th>int64</th>\n",
       "      <td>41</td>\n",
       "    </tr>\n",
       "    <tr>\n",
       "      <th>float64</th>\n",
       "      <td>65</td>\n",
       "    </tr>\n",
       "    <tr>\n",
       "      <th>object</th>\n",
       "      <td>16</td>\n",
       "    </tr>\n",
       "  </tbody>\n",
       "</table>\n",
       "</div>"
      ],
      "text/plain": [
       "         index\n",
       "0             \n",
       "int64       41\n",
       "float64     65\n",
       "object      16"
      ]
     },
     "execution_count": 23,
     "metadata": {},
     "output_type": "execute_result"
    }
   ],
   "source": [
    "app_train.dtypes.reset_index().groupby([0]).agg('count')"
   ]
  },
  {
   "cell_type": "code",
   "execution_count": 25,
   "metadata": {},
   "outputs": [
    {
     "data": {
      "text/plain": [
       "SK_ID_CURR                     278180.518577\n",
       "TARGET                              0.080729\n",
       "CNT_CHILDREN                        0.417052\n",
       "DAYS_BIRTH                     -16036.995067\n",
       "DAYS_EMPLOYED                   63815.045904\n",
       "DAYS_ID_PUBLISH                 -2994.202373\n",
       "FLAG_MOBIL                          0.999997\n",
       "FLAG_EMP_PHONE                      0.819889\n",
       "FLAG_WORK_PHONE                     0.199368\n",
       "FLAG_CONT_MOBILE                    0.998133\n",
       "FLAG_PHONE                          0.281066\n",
       "FLAG_EMAIL                          0.056720\n",
       "REGION_RATING_CLIENT                2.052463\n",
       "REGION_RATING_CLIENT_W_CITY         2.031521\n",
       "HOUR_APPR_PROCESS_START            12.063419\n",
       "REG_REGION_NOT_LIVE_REGION          0.015144\n",
       "REG_REGION_NOT_WORK_REGION          0.050769\n",
       "LIVE_REGION_NOT_WORK_REGION         0.040659\n",
       "REG_CITY_NOT_LIVE_CITY              0.078173\n",
       "REG_CITY_NOT_WORK_CITY              0.230454\n",
       "LIVE_CITY_NOT_WORK_CITY             0.179555\n",
       "FLAG_DOCUMENT_2                     0.000042\n",
       "FLAG_DOCUMENT_3                     0.710023\n",
       "FLAG_DOCUMENT_4                     0.000081\n",
       "FLAG_DOCUMENT_5                     0.015115\n",
       "FLAG_DOCUMENT_6                     0.088055\n",
       "FLAG_DOCUMENT_7                     0.000192\n",
       "FLAG_DOCUMENT_8                     0.081376\n",
       "FLAG_DOCUMENT_9                     0.003896\n",
       "FLAG_DOCUMENT_10                    0.000023\n",
       "FLAG_DOCUMENT_11                    0.003912\n",
       "FLAG_DOCUMENT_12                    0.000007\n",
       "FLAG_DOCUMENT_13                    0.003525\n",
       "FLAG_DOCUMENT_14                    0.002936\n",
       "FLAG_DOCUMENT_15                    0.001210\n",
       "FLAG_DOCUMENT_16                    0.009928\n",
       "FLAG_DOCUMENT_17                    0.000267\n",
       "FLAG_DOCUMENT_18                    0.008130\n",
       "FLAG_DOCUMENT_19                    0.000595\n",
       "FLAG_DOCUMENT_20                    0.000507\n",
       "FLAG_DOCUMENT_21                    0.000335\n",
       "dtype: float64"
      ]
     },
     "execution_count": 25,
     "metadata": {},
     "output_type": "execute_result"
    }
   ],
   "source": [
    "# 計算int_features中的平均數\n",
    "app_train[int_features].mean()"
   ]
  },
  {
   "cell_type": "code",
   "execution_count": 26,
   "metadata": {},
   "outputs": [
    {
     "data": {
      "text/plain": [
       "AMT_INCOME_TOTAL              237123.146279\n",
       "AMT_CREDIT                    402490.776996\n",
       "AMT_ANNUITY                    14493.737315\n",
       "AMT_GOODS_PRICE               369446.460540\n",
       "REGION_POPULATION_RELATIVE         0.013831\n",
       "                                  ...      \n",
       "AMT_REQ_CREDIT_BUREAU_DAY          0.110757\n",
       "AMT_REQ_CREDIT_BUREAU_WEEK         0.204685\n",
       "AMT_REQ_CREDIT_BUREAU_MON          0.916002\n",
       "AMT_REQ_CREDIT_BUREAU_QRT          0.794056\n",
       "AMT_REQ_CREDIT_BUREAU_YEAR         1.869295\n",
       "Length: 65, dtype: float64"
      ]
     },
     "execution_count": 26,
     "metadata": {},
     "output_type": "execute_result"
    }
   ],
   "source": [
    "# 計算float_features中的標準差\n",
    "app_train[float_features].std()"
   ]
  },
  {
   "cell_type": "code",
   "execution_count": 44,
   "metadata": {},
   "outputs": [
    {
     "data": {
      "text/plain": [
       "<AxesSubplot:ylabel='Frequency'>"
      ]
     },
     "execution_count": 44,
     "metadata": {},
     "output_type": "execute_result"
    },
    {
     "data": {
      "image/png": "[encoded data removed]",
      "text/plain": [
       "<Figure size 432x288 with 1 Axes>"
      ]
     },
     "metadata": {
      "needs_background": "light"
     },
     "output_type": "display_data"
    }
   ],
   "source": [
    "# 畫出直方圖\n",
    "x_max = 800000\n",
    "app_train['AMT_INCOME_TOTAL'].plot(xlim=(0,x_max),kind='hist',bins=1000)"
   ]
  },
  {
   "cell_type": "code",
   "execution_count": null,
   "metadata": {},
   "outputs": [],
   "source": []
  }
 ],
 "metadata": {
  "kernelspec": {
   "display_name": "Python 3",
   "language": "python",
   "name": "python3"
  },
  "language_info": {
   "codemirror_mode": {
    "name": "ipython",
    "version": 3
   },
   "file_extension": ".py",
   "mimetype": "text/x-python",
   "name": "python",
   "nbconvert_exporter": "python",
   "pygments_lexer": "ipython3",
   "version": "3.7.4"
  }
 },
 "nbformat": 4,
 "nbformat_minor": 2
}
